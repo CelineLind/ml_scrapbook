{
 "cells": [
  {
   "cell_type": "markdown",
   "metadata": {},
   "source": [
    "## Linear Regression  \n",
    "* Used for predicting a continuous dependent variable based on other independent variables  \n",
    "* It finds a linear relationship between the data"
   ]
  },
  {
   "cell_type": "markdown",
   "metadata": {},
   "source": [
    "https://www.kaggle.com/learn/time-series"
   ]
  },
  {
   "cell_type": "markdown",
   "metadata": {},
   "source": [
    "## Linear Regression with Time Series data  \n",
    "* Forecasting: forecast product demand, economic and population growth, weather  \n",
    "* Time series data: observations collected over time, usually at a regular frequency  "
   ]
  },
  {
   "cell_type": "code",
   "execution_count": 1,
   "metadata": {},
   "outputs": [],
   "source": [
    "# target = weight_1 * feature_1 + weight_2 * feature_2 + bias  \n",
    "\n",
    "# Example ^ for two features\n",
    "# Goal: minimise the squared error between the target and predictions <- ordinary least sqaures\n",
    "# parameters, regression coefficients: weights_1, weights_2\n",
    "# intercept: bias  "
   ]
  },
  {
   "cell_type": "markdown",
   "metadata": {},
   "source": [
    "Time-step features:  \n",
    "* Time dummy: \"counts off time steps in the series from beginning to end\"  \n",
    "* Allow you to model \"time dependence\""
   ]
  },
  {
   "cell_type": "code",
   "execution_count": 2,
   "metadata": {},
   "outputs": [],
   "source": [
    "# target = weight * time + bias"
   ]
  },
  {
   "cell_type": "markdown",
   "metadata": {},
   "source": [
    "Lag features:  \n",
    "* Lag feature: \"shift the observations fo the target series so they appear to have occured later in time.\"  \n",
    "* Allow you to model seriel dependence: when the observation could be predicted from the previous observation."
   ]
  },
  {
   "cell_type": "code",
   "execution_count": 3,
   "metadata": {},
   "outputs": [],
   "source": [
    "# target = weight * lag + bias"
   ]
  },
  {
   "cell_type": "markdown",
   "metadata": {},
   "source": [
    "### Why add time-step or lag features?  \n",
    "These features can provide a model with additional information, which when used in conjunctiuon with the original data, can improve the accuracy and performance of the model. For data displaying time dependence, such as book sales over time, time-steps could be added. For data displaying seriel dependence, adding lag could help. "
   ]
  },
  {
   "cell_type": "markdown",
   "metadata": {},
   "source": [
    "## Linear Regression on Kaggle dataset"
   ]
  },
  {
   "cell_type": "code",
   "execution_count": 4,
   "metadata": {},
   "outputs": [
    {
     "name": "stderr",
     "output_type": "stream",
     "text": [
      "/Users/celinelindeque/Documents/programming/python/MachineLearning/scrapbook/ml_scrapbook/Time_Series/time_series_venv/lib/python3.9/site-packages/tqdm/auto.py:21: TqdmWarning: IProgress not found. Please update jupyter and ipywidgets. See https://ipywidgets.readthedocs.io/en/stable/user_install.html\n",
      "  from .autonotebook import tqdm as notebook_tqdm\n"
     ]
    }
   ],
   "source": [
    "import kagglehub\n",
    "path = kagglehub.dataset_download(\"thedevastator/books-sales-and-ratings\")"
   ]
  },
  {
   "cell_type": "code",
   "execution_count": 5,
   "metadata": {},
   "outputs": [],
   "source": [
    "import pandas as pd\n",
    "booksales = pd.read_csv(path+'/Books_Data_Clean.csv')"
   ]
  },
  {
   "cell_type": "code",
   "execution_count": 6,
   "metadata": {},
   "outputs": [],
   "source": [
    "import numpy as np"
   ]
  },
  {
   "cell_type": "code",
   "execution_count": 7,
   "metadata": {},
   "outputs": [
    {
     "data": {
      "text/html": [
       "<div>\n",
       "<style scoped>\n",
       "    .dataframe tbody tr th:only-of-type {\n",
       "        vertical-align: middle;\n",
       "    }\n",
       "\n",
       "    .dataframe tbody tr th {\n",
       "        vertical-align: top;\n",
       "    }\n",
       "\n",
       "    .dataframe thead th {\n",
       "        text-align: right;\n",
       "    }\n",
       "</style>\n",
       "<table border=\"1\" class=\"dataframe\">\n",
       "  <thead>\n",
       "    <tr style=\"text-align: right;\">\n",
       "      <th></th>\n",
       "      <th>index</th>\n",
       "      <th>Publishing Year</th>\n",
       "      <th>Book Name</th>\n",
       "      <th>Author</th>\n",
       "      <th>language_code</th>\n",
       "      <th>Author_Rating</th>\n",
       "      <th>Book_average_rating</th>\n",
       "      <th>Book_ratings_count</th>\n",
       "      <th>genre</th>\n",
       "      <th>gross sales</th>\n",
       "      <th>publisher revenue</th>\n",
       "      <th>sale price</th>\n",
       "      <th>sales rank</th>\n",
       "      <th>Publisher</th>\n",
       "      <th>units sold</th>\n",
       "    </tr>\n",
       "  </thead>\n",
       "  <tbody>\n",
       "    <tr>\n",
       "      <th>0</th>\n",
       "      <td>0</td>\n",
       "      <td>1975.0</td>\n",
       "      <td>Beowulf</td>\n",
       "      <td>Unknown, Seamus Heaney</td>\n",
       "      <td>en-US</td>\n",
       "      <td>Novice</td>\n",
       "      <td>3.42</td>\n",
       "      <td>155903</td>\n",
       "      <td>genre fiction</td>\n",
       "      <td>34160.0</td>\n",
       "      <td>20496.0</td>\n",
       "      <td>4.88</td>\n",
       "      <td>1</td>\n",
       "      <td>HarperCollins Publishers</td>\n",
       "      <td>7000</td>\n",
       "    </tr>\n",
       "    <tr>\n",
       "      <th>1</th>\n",
       "      <td>1</td>\n",
       "      <td>1987.0</td>\n",
       "      <td>Batman: Year One</td>\n",
       "      <td>Frank Miller, David Mazzucchelli, Richmond Lew...</td>\n",
       "      <td>eng</td>\n",
       "      <td>Intermediate</td>\n",
       "      <td>4.23</td>\n",
       "      <td>145267</td>\n",
       "      <td>genre fiction</td>\n",
       "      <td>12437.5</td>\n",
       "      <td>7462.5</td>\n",
       "      <td>1.99</td>\n",
       "      <td>2</td>\n",
       "      <td>HarperCollins Publishers</td>\n",
       "      <td>6250</td>\n",
       "    </tr>\n",
       "    <tr>\n",
       "      <th>2</th>\n",
       "      <td>2</td>\n",
       "      <td>2015.0</td>\n",
       "      <td>Go Set a Watchman</td>\n",
       "      <td>Harper Lee</td>\n",
       "      <td>eng</td>\n",
       "      <td>Novice</td>\n",
       "      <td>3.31</td>\n",
       "      <td>138669</td>\n",
       "      <td>genre fiction</td>\n",
       "      <td>47795.0</td>\n",
       "      <td>28677.0</td>\n",
       "      <td>8.69</td>\n",
       "      <td>3</td>\n",
       "      <td>Amazon Digital Services,  Inc.</td>\n",
       "      <td>5500</td>\n",
       "    </tr>\n",
       "    <tr>\n",
       "      <th>3</th>\n",
       "      <td>3</td>\n",
       "      <td>2008.0</td>\n",
       "      <td>When You Are Engulfed in Flames</td>\n",
       "      <td>David Sedaris</td>\n",
       "      <td>en-US</td>\n",
       "      <td>Intermediate</td>\n",
       "      <td>4.04</td>\n",
       "      <td>150898</td>\n",
       "      <td>fiction</td>\n",
       "      <td>41250.0</td>\n",
       "      <td>24750.0</td>\n",
       "      <td>7.50</td>\n",
       "      <td>3</td>\n",
       "      <td>Hachette Book Group</td>\n",
       "      <td>5500</td>\n",
       "    </tr>\n",
       "    <tr>\n",
       "      <th>4</th>\n",
       "      <td>4</td>\n",
       "      <td>2011.0</td>\n",
       "      <td>Daughter of Smoke &amp; Bone</td>\n",
       "      <td>Laini Taylor</td>\n",
       "      <td>eng</td>\n",
       "      <td>Intermediate</td>\n",
       "      <td>4.04</td>\n",
       "      <td>198283</td>\n",
       "      <td>genre fiction</td>\n",
       "      <td>37952.5</td>\n",
       "      <td>22771.5</td>\n",
       "      <td>7.99</td>\n",
       "      <td>4</td>\n",
       "      <td>Penguin Group (USA) LLC</td>\n",
       "      <td>4750</td>\n",
       "    </tr>\n",
       "  </tbody>\n",
       "</table>\n",
       "</div>"
      ],
      "text/plain": [
       "   index  Publishing Year                        Book Name  \\\n",
       "0      0           1975.0                          Beowulf   \n",
       "1      1           1987.0                 Batman: Year One   \n",
       "2      2           2015.0                Go Set a Watchman   \n",
       "3      3           2008.0  When You Are Engulfed in Flames   \n",
       "4      4           2011.0         Daughter of Smoke & Bone   \n",
       "\n",
       "                                              Author language_code  \\\n",
       "0                             Unknown, Seamus Heaney         en-US   \n",
       "1  Frank Miller, David Mazzucchelli, Richmond Lew...           eng   \n",
       "2                                         Harper Lee           eng   \n",
       "3                                      David Sedaris         en-US   \n",
       "4                                       Laini Taylor           eng   \n",
       "\n",
       "  Author_Rating  Book_average_rating  Book_ratings_count          genre  \\\n",
       "0        Novice                 3.42              155903  genre fiction   \n",
       "1  Intermediate                 4.23              145267  genre fiction   \n",
       "2        Novice                 3.31              138669  genre fiction   \n",
       "3  Intermediate                 4.04              150898        fiction   \n",
       "4  Intermediate                 4.04              198283  genre fiction   \n",
       "\n",
       "   gross sales  publisher revenue  sale price  sales rank  \\\n",
       "0      34160.0            20496.0        4.88           1   \n",
       "1      12437.5             7462.5        1.99           2   \n",
       "2      47795.0            28677.0        8.69           3   \n",
       "3      41250.0            24750.0        7.50           3   \n",
       "4      37952.5            22771.5        7.99           4   \n",
       "\n",
       "                       Publisher   units sold  \n",
       "0        HarperCollins Publishers        7000  \n",
       "1        HarperCollins Publishers        6250  \n",
       "2  Amazon Digital Services,  Inc.        5500  \n",
       "3             Hachette Book Group        5500  \n",
       "4         Penguin Group (USA) LLC        4750  "
      ]
     },
     "execution_count": 7,
     "metadata": {},
     "output_type": "execute_result"
    }
   ],
   "source": [
    "booksales.head()"
   ]
  },
  {
   "cell_type": "markdown",
   "metadata": {},
   "source": [
    "I want to model the relationship between sale price and publication year."
   ]
  },
  {
   "cell_type": "code",
   "execution_count": 8,
   "metadata": {},
   "outputs": [],
   "source": [
    "# drop any rows with NaN for publishing year or sale price \n",
    "booksales = booksales.dropna(subset=['Publishing Year', 'sale price'])"
   ]
  },
  {
   "cell_type": "code",
   "execution_count": 9,
   "metadata": {},
   "outputs": [],
   "source": [
    "# select a subset of the data \n",
    "booksales = booksales[booksales['Publishing Year'] > 1800]\n",
    "booksales = booksales[booksales['sale price'] > 10]\n",
    "booksales = booksales[booksales['units sold'] > 500]"
   ]
  },
  {
   "cell_type": "code",
   "execution_count": 10,
   "metadata": {},
   "outputs": [
    {
     "data": {
      "text/plain": [
       "70"
      ]
     },
     "execution_count": 10,
     "metadata": {},
     "output_type": "execute_result"
    }
   ],
   "source": [
    "len(booksales)"
   ]
  },
  {
   "cell_type": "code",
   "execution_count": 11,
   "metadata": {},
   "outputs": [
    {
     "name": "stdout",
     "output_type": "stream",
     "text": [
      "The minimum number of books sold was  655  and the median number was  4380.0\n",
      "The minimum price was  10.65  and the median price was  11.620000000000001\n"
     ]
    }
   ],
   "source": [
    "print(\"The minimum number of books sold was \",np.min(booksales['units sold']),\" and the median number was \",np.median(booksales['units sold']))\n",
    "print(\"The minimum price was \",np.min(booksales['sale price']),\" and the median price was \",np.median(booksales['sale price']))"
   ]
  },
  {
   "cell_type": "code",
   "execution_count": 12,
   "metadata": {},
   "outputs": [],
   "source": [
    "x__year_original  = np.array(booksales['Publishing Year'], dtype=float) \n",
    "y__price_original = np.array(booksales['sale price'],      dtype=float) "
   ]
  },
  {
   "cell_type": "code",
   "execution_count": 13,
   "metadata": {},
   "outputs": [],
   "source": [
    "# normalise data\n",
    "x_mean = x__year_original.mean()\n",
    "x_std  = x__year_original.std()\n",
    "x__year_normalized = (x__year_original - x_mean) / x_std\n",
    "\n",
    "y_mean = y__price_original.mean()\n",
    "y_std  = y__price_original.std()\n",
    "y__price_normalized = (y__price_original - y_mean) / y_std\n",
    "\n",
    "x__year = x__year_normalized\n",
    "y__price = y__price_normalized"
   ]
  },
  {
   "cell_type": "code",
   "execution_count": 14,
   "metadata": {},
   "outputs": [
    {
     "data": {
      "text/plain": [
       "(70,)"
      ]
     },
     "execution_count": 14,
     "metadata": {},
     "output_type": "execute_result"
    }
   ],
   "source": [
    "x__year.shape"
   ]
  },
  {
   "cell_type": "code",
   "execution_count": 15,
   "metadata": {},
   "outputs": [],
   "source": [
    "x__year = x__year.reshape(-1, 1)\n",
    "y__price = y__price.reshape(-1, 1)"
   ]
  },
  {
   "cell_type": "code",
   "execution_count": 16,
   "metadata": {},
   "outputs": [
    {
     "data": {
      "text/plain": [
       "(70, 1)"
      ]
     },
     "execution_count": 16,
     "metadata": {},
     "output_type": "execute_result"
    }
   ],
   "source": [
    "x__year.shape "
   ]
  },
  {
   "cell_type": "markdown",
   "metadata": {},
   "source": [
    "https://www.deeplearningwizard.com/deep_learning/practical_pytorch/pytorch_linear_regression/#example"
   ]
  },
  {
   "cell_type": "code",
   "execution_count": 17,
   "metadata": {},
   "outputs": [],
   "source": [
    "import torch\n",
    "import torch.nn as nn"
   ]
  },
  {
   "cell_type": "code",
   "execution_count": 18,
   "metadata": {},
   "outputs": [],
   "source": [
    "class LinearRegressionModel(nn.Module):\n",
    "    def __init__(self, input_dim, output_dim):\n",
    "        super(LinearRegressionModel, self).__init__()\n",
    "        self.linear = nn.Linear(input_dim, output_dim)  \n",
    "\n",
    "    def forward(self, x):\n",
    "        return self.linear(x)"
   ]
  },
  {
   "cell_type": "code",
   "execution_count": 19,
   "metadata": {},
   "outputs": [],
   "source": [
    "model = LinearRegressionModel(1, 1)\n",
    "\n",
    "criterion     = nn.MSELoss()\n",
    "learning_rate = 0.001\n",
    "optimizer     = torch.optim.SGD(model.parameters(), lr=learning_rate)\n",
    "epochs        = 200"
   ]
  },
  {
   "cell_type": "code",
   "execution_count": 20,
   "metadata": {},
   "outputs": [
    {
     "name": "stdout",
     "output_type": "stream",
     "text": [
      "epoch 1, loss 1.1949506998062134\n",
      "epoch 2, loss 1.1941713094711304\n",
      "epoch 3, loss 1.1933953762054443\n",
      "epoch 4, loss 1.192622423171997\n",
      "epoch 5, loss 1.1918526887893677\n",
      "epoch 6, loss 1.1910858154296875\n",
      "epoch 7, loss 1.1903220415115356\n",
      "epoch 8, loss 1.189561367034912\n",
      "epoch 9, loss 1.1888039112091064\n",
      "epoch 10, loss 1.1880491971969604\n",
      "epoch 11, loss 1.1872974634170532\n",
      "epoch 12, loss 1.1865489482879639\n",
      "epoch 13, loss 1.1858034133911133\n",
      "epoch 14, loss 1.1850608587265015\n",
      "epoch 15, loss 1.1843211650848389\n",
      "epoch 16, loss 1.183584451675415\n",
      "epoch 17, loss 1.1828505992889404\n",
      "epoch 18, loss 1.1821198463439941\n",
      "epoch 19, loss 1.181391954421997\n",
      "epoch 20, loss 1.1806670427322388\n",
      "epoch 21, loss 1.1799449920654297\n",
      "epoch 22, loss 1.1792258024215698\n",
      "epoch 23, loss 1.1785094738006592\n",
      "epoch 24, loss 1.1777958869934082\n",
      "epoch 25, loss 1.177085280418396\n",
      "epoch 26, loss 1.176377534866333\n",
      "epoch 27, loss 1.1756725311279297\n",
      "epoch 28, loss 1.1749705076217651\n",
      "epoch 29, loss 1.1742711067199707\n",
      "epoch 30, loss 1.1735745668411255\n",
      "epoch 31, loss 1.1728808879852295\n",
      "epoch 32, loss 1.172189712524414\n",
      "epoch 33, loss 1.171501636505127\n",
      "epoch 34, loss 1.17081618309021\n",
      "epoch 35, loss 1.1701335906982422\n",
      "epoch 36, loss 1.1694533824920654\n",
      "epoch 37, loss 1.168776273727417\n",
      "epoch 38, loss 1.1681015491485596\n",
      "epoch 39, loss 1.1674296855926514\n",
      "epoch 40, loss 1.1667604446411133\n",
      "epoch 41, loss 1.1660939455032349\n",
      "epoch 42, loss 1.1654300689697266\n",
      "epoch 43, loss 1.1647688150405884\n",
      "epoch 44, loss 1.1641104221343994\n",
      "epoch 45, loss 1.1634544134140015\n",
      "epoch 46, loss 1.1628011465072632\n",
      "epoch 47, loss 1.1621503829956055\n",
      "epoch 48, loss 1.1615022420883179\n",
      "epoch 49, loss 1.1608567237854004\n",
      "epoch 50, loss 1.1602140665054321\n",
      "epoch 51, loss 1.1595734357833862\n",
      "epoch 52, loss 1.1589356660842896\n",
      "epoch 53, loss 1.158300518989563\n",
      "epoch 54, loss 1.1576677560806274\n",
      "epoch 55, loss 1.1570377349853516\n",
      "epoch 56, loss 1.1564098596572876\n",
      "epoch 57, loss 1.1557848453521729\n",
      "epoch 58, loss 1.1551622152328491\n",
      "epoch 59, loss 1.1545418500900269\n",
      "epoch 60, loss 1.1539242267608643\n",
      "epoch 61, loss 1.1533089876174927\n",
      "epoch 62, loss 1.1526963710784912\n",
      "epoch 63, loss 1.1520859003067017\n",
      "epoch 64, loss 1.1514781713485718\n",
      "epoch 65, loss 1.1508725881576538\n",
      "epoch 66, loss 1.1502693891525269\n",
      "epoch 67, loss 1.1496689319610596\n",
      "epoch 68, loss 1.1490706205368042\n",
      "epoch 69, loss 1.1484748125076294\n",
      "epoch 70, loss 1.1478816270828247\n",
      "epoch 71, loss 1.1472903490066528\n",
      "epoch 72, loss 1.146701693534851\n",
      "epoch 73, loss 1.1461153030395508\n",
      "epoch 74, loss 1.1455312967300415\n",
      "epoch 75, loss 1.1449496746063232\n",
      "epoch 76, loss 1.144370198249817\n",
      "epoch 77, loss 1.1437931060791016\n",
      "epoch 78, loss 1.1432185173034668\n",
      "epoch 79, loss 1.142646074295044\n",
      "epoch 80, loss 1.142075777053833\n",
      "epoch 81, loss 1.141507863998413\n",
      "epoch 82, loss 1.1409422159194946\n",
      "epoch 83, loss 1.1403789520263672\n",
      "epoch 84, loss 1.1398180723190308\n",
      "epoch 85, loss 1.1392590999603271\n",
      "epoch 86, loss 1.1387025117874146\n",
      "epoch 87, loss 1.1381479501724243\n",
      "epoch 88, loss 1.137595772743225\n",
      "epoch 89, loss 1.1370458602905273\n",
      "epoch 90, loss 1.1364980936050415\n",
      "epoch 91, loss 1.1359524726867676\n",
      "epoch 92, loss 1.1354091167449951\n",
      "epoch 93, loss 1.1348679065704346\n",
      "epoch 94, loss 1.134328842163086\n",
      "epoch 95, loss 1.1337919235229492\n",
      "epoch 96, loss 1.1332570314407349\n",
      "epoch 97, loss 1.132724404335022\n",
      "epoch 98, loss 1.132193922996521\n",
      "epoch 99, loss 1.1316654682159424\n",
      "epoch 100, loss 1.1311391592025757\n",
      "epoch 101, loss 1.1306151151657104\n",
      "epoch 102, loss 1.130092978477478\n",
      "epoch 103, loss 1.1295729875564575\n",
      "epoch 104, loss 1.129055142402649\n",
      "epoch 105, loss 1.1285392045974731\n",
      "epoch 106, loss 1.1280255317687988\n",
      "epoch 107, loss 1.1275137662887573\n",
      "epoch 108, loss 1.1270041465759277\n",
      "epoch 109, loss 1.1264963150024414\n",
      "epoch 110, loss 1.1259907484054565\n",
      "epoch 111, loss 1.1254870891571045\n",
      "epoch 112, loss 1.1249854564666748\n",
      "epoch 113, loss 1.124485969543457\n",
      "epoch 114, loss 1.123988389968872\n",
      "epoch 115, loss 1.1234925985336304\n",
      "epoch 116, loss 1.1229991912841797\n",
      "epoch 117, loss 1.1225074529647827\n",
      "epoch 118, loss 1.122017741203308\n",
      "epoch 119, loss 1.1215301752090454\n",
      "epoch 120, loss 1.1210445165634155\n",
      "epoch 121, loss 1.1205605268478394\n",
      "epoch 122, loss 1.1200785636901855\n",
      "epoch 123, loss 1.119598627090454\n",
      "epoch 124, loss 1.1191205978393555\n",
      "epoch 125, loss 1.1186443567276\n",
      "epoch 126, loss 1.118170142173767\n",
      "epoch 127, loss 1.117697834968567\n",
      "epoch 128, loss 1.11722731590271\n",
      "epoch 129, loss 1.116758942604065\n",
      "epoch 130, loss 1.116291880607605\n",
      "epoch 131, loss 1.115827202796936\n",
      "epoch 132, loss 1.1153641939163208\n",
      "epoch 133, loss 1.1149030923843384\n",
      "epoch 134, loss 1.1144437789916992\n",
      "epoch 135, loss 1.1139863729476929\n",
      "epoch 136, loss 1.1135307550430298\n",
      "epoch 137, loss 1.11307692527771\n",
      "epoch 138, loss 1.1126248836517334\n",
      "epoch 139, loss 1.1121746301651\n",
      "epoch 140, loss 1.1117262840270996\n",
      "epoch 141, loss 1.1112796068191528\n",
      "epoch 142, loss 1.1108348369598389\n",
      "epoch 143, loss 1.1103917360305786\n",
      "epoch 144, loss 1.1099505424499512\n",
      "epoch 145, loss 1.109511137008667\n",
      "epoch 146, loss 1.109073281288147\n",
      "epoch 147, loss 1.1086373329162598\n",
      "epoch 148, loss 1.1082030534744263\n",
      "epoch 149, loss 1.1077704429626465\n",
      "epoch 150, loss 1.1073397397994995\n",
      "epoch 151, loss 1.1069107055664062\n",
      "epoch 152, loss 1.1064833402633667\n",
      "epoch 153, loss 1.1060575246810913\n",
      "epoch 154, loss 1.1056337356567383\n",
      "epoch 155, loss 1.1052113771438599\n",
      "epoch 156, loss 1.1047906875610352\n",
      "epoch 157, loss 1.1043720245361328\n",
      "epoch 158, loss 1.103954792022705\n",
      "epoch 159, loss 1.1035391092300415\n",
      "epoch 160, loss 1.1031253337860107\n",
      "epoch 161, loss 1.1027131080627441\n",
      "epoch 162, loss 1.1023025512695312\n",
      "epoch 163, loss 1.1018935441970825\n",
      "epoch 164, loss 1.1014862060546875\n",
      "epoch 165, loss 1.1010805368423462\n",
      "epoch 166, loss 1.100676417350769\n",
      "epoch 167, loss 1.1002739667892456\n",
      "epoch 168, loss 1.0998733043670654\n",
      "epoch 169, loss 1.0994739532470703\n",
      "epoch 170, loss 1.0990763902664185\n",
      "epoch 171, loss 1.0986803770065308\n",
      "epoch 172, loss 1.0982859134674072\n",
      "epoch 173, loss 1.0978929996490479\n",
      "epoch 174, loss 1.097501516342163\n",
      "epoch 175, loss 1.097111701965332\n",
      "epoch 176, loss 1.0967235565185547\n",
      "epoch 177, loss 1.0963369607925415\n",
      "epoch 178, loss 1.095951795578003\n",
      "epoch 179, loss 1.0955681800842285\n",
      "epoch 180, loss 1.0951862335205078\n",
      "epoch 181, loss 1.0948057174682617\n",
      "epoch 182, loss 1.0944266319274902\n",
      "epoch 183, loss 1.094049334526062\n",
      "epoch 184, loss 1.0936732292175293\n",
      "epoch 185, loss 1.0932989120483398\n",
      "epoch 186, loss 1.0929259061813354\n",
      "epoch 187, loss 1.0925542116165161\n",
      "epoch 188, loss 1.09218430519104\n",
      "epoch 189, loss 1.0918158292770386\n",
      "epoch 190, loss 1.0914487838745117\n",
      "epoch 191, loss 1.0910831689834595\n",
      "epoch 192, loss 1.090719223022461\n",
      "epoch 193, loss 1.090356469154358\n",
      "epoch 194, loss 1.089995265007019\n",
      "epoch 195, loss 1.0896354913711548\n",
      "epoch 196, loss 1.0892772674560547\n",
      "epoch 197, loss 1.08892023563385\n",
      "epoch 198, loss 1.0885648727416992\n",
      "epoch 199, loss 1.0882107019424438\n",
      "epoch 200, loss 1.0878582000732422\n"
     ]
    }
   ],
   "source": [
    "# train the linear regression model\n",
    "\n",
    "for epoch in range(epochs):\n",
    "    epoch += 1\n",
    "    # Convert numpy array to torch Variable\n",
    "    inputs = torch.from_numpy(x__year).float().requires_grad_()\n",
    "    labels = torch.from_numpy(y__price).float()\n",
    "\n",
    "    # Clear gradients w.r.t. parameters\n",
    "    optimizer.zero_grad() \n",
    "\n",
    "    # Forward to get output\n",
    "    outputs = model(inputs)\n",
    "\n",
    "    # Calculate Loss\n",
    "    loss = criterion(outputs, labels)\n",
    "\n",
    "    # Getting gradients w.r.t. parameters\n",
    "    loss.backward()\n",
    "\n",
    "    # Updating parameters\n",
    "    optimizer.step()\n",
    "\n",
    "    print('epoch {}, loss {}'.format(epoch, loss.item()))"
   ]
  },
  {
   "cell_type": "code",
   "execution_count": 21,
   "metadata": {},
   "outputs": [
    {
     "data": {
      "text/plain": [
       "torch.Size([70, 1])"
      ]
     },
     "execution_count": 21,
     "metadata": {},
     "output_type": "execute_result"
    }
   ],
   "source": [
    "inputs.shape"
   ]
  },
  {
   "cell_type": "markdown",
   "metadata": {},
   "source": [
    "Predict for all training data"
   ]
  },
  {
   "cell_type": "code",
   "execution_count": 22,
   "metadata": {},
   "outputs": [],
   "source": [
    "predicted = model(torch.from_numpy(x__year).float().requires_grad_()).data.numpy()"
   ]
  },
  {
   "cell_type": "code",
   "execution_count": 23,
   "metadata": {},
   "outputs": [],
   "source": [
    "import matplotlib.pyplot as plt"
   ]
  },
  {
   "cell_type": "code",
   "execution_count": 24,
   "metadata": {},
   "outputs": [
    {
     "data": {
      "image/png": "[encoded data removed]",
      "text/plain": [
       "<Figure size 1200x800 with 1 Axes>"
      ]
     },
     "metadata": {},
     "output_type": "display_data"
    }
   ],
   "source": [
    "# Denormalize the predictions and get the original values\n",
    "predicted_price_normalized = predicted.flatten()\n",
    "predicted_price = (predicted_price_normalized * y_std) + y_mean\n",
    "original_years  = (x__year.flatten() * x_std) + x_mean\n",
    "original_prices = (y__price.flatten() * y_std) + y_mean\n",
    "\n",
    "# Plot\n",
    "plt.figure(figsize=(12, 8))\n",
    "plt.scatter(original_years, original_prices, color='blue', alpha=0.5, label='Actual Prices')\n",
    "plt.plot(original_years, predicted_price, color='red', linewidth=2, label='Predicted Prices')\n",
    "\n",
    "plt.xlabel('Publishing Year')\n",
    "plt.ylabel('Price ($)')\n",
    "plt.title('Book Prices: Actual vs Predicted')\n",
    "plt.legend()\n",
    "plt.grid(True, alpha=0.3)\n",
    "\n",
    "plt.tight_layout()\n",
    "plt.show()"
   ]
  },
  {
   "cell_type": "markdown",
   "metadata": {},
   "source": [
    "Performing linear regression between other values may return more interesting and insightful results. The data is clearly scewed towards the present-day when more books are being published. You could not fairly say \"the prices of books which sold over 500 copies has increased over time\" with such uneven data."
   ]
  }
 ],
 "metadata": {
  "kernelspec": {
   "display_name": "time_series_venv",
   "language": "python",
   "name": "python3"
  },
  "language_info": {
   "codemirror_mode": {
    "name": "ipython",
    "version": 3
   },
   "file_extension": ".py",
   "mimetype": "text/x-python",
   "name": "python",
   "nbconvert_exporter": "python",
   "pygments_lexer": "ipython3",
   "version": "3.9.13"
  }
 },
 "nbformat": 4,
 "nbformat_minor": 2
}
