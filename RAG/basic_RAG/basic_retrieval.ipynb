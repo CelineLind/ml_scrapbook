{
 "cells": [
  {
   "cell_type": "markdown",
   "metadata": {},
   "source": [
    "## Retrieval from Vector Database"
   ]
  },
  {
   "cell_type": "code",
   "execution_count": 1,
   "metadata": {},
   "outputs": [],
   "source": [
    "!source ../rag_venv/bin/activate"
   ]
  },
  {
   "cell_type": "code",
   "execution_count": 2,
   "metadata": {},
   "outputs": [],
   "source": [
    "# Imports \n",
    "import sys\n",
    "sys.path.append('../')\n",
    "\n",
    "from VectorDatabase import VectorDatabase\n",
    "from Document       import Document\n",
    "from os             import listdir\n",
    "from os.path        import isfile, join"
   ]
  },
  {
   "cell_type": "code",
   "execution_count": 3,
   "metadata": {},
   "outputs": [],
   "source": [
    "# Initialise vector database\n",
    "v_db = VectorDatabase()\n",
    "v_db.setClient(persistent=False)\n",
    "v_db.createCollection(\"Bible_John\")"
   ]
  },
  {
   "cell_type": "code",
   "execution_count": 4,
   "metadata": {},
   "outputs": [],
   "source": [
    "# Add documents into vector database\n",
    "dataset_folder = \"documents\"\n",
    "\n",
    "def check_is_txt(file):\n",
    "    if (isfile(join(dataset_folder, file))) and (file.endswith('.txt')):\n",
    "        return True\n",
    "\n",
    "metadatas = [{\"filepath\": join(dataset_folder,f), \n",
    "              \"book\"    :(f.split('_')[0]), \n",
    "              \"chapter\" :(f.split('_')[1].split('.')[0])\n",
    "              } for f in listdir(dataset_folder) if check_is_txt(f)]"
   ]
  },
  {
   "cell_type": "code",
   "execution_count": 5,
   "metadata": {},
   "outputs": [
    {
     "data": {
      "text/plain": [
       "[{'filepath': 'documents/john_3.txt', 'book': 'john', 'chapter': '3'},\n",
       " {'filepath': 'documents/john_2.txt', 'book': 'john', 'chapter': '2'},\n",
       " {'filepath': 'documents/john_1.txt', 'book': 'john', 'chapter': '1'}]"
      ]
     },
     "execution_count": 5,
     "metadata": {},
     "output_type": "execute_result"
    }
   ],
   "source": [
    "metadatas"
   ]
  },
  {
   "cell_type": "code",
   "execution_count": 6,
   "metadata": {},
   "outputs": [],
   "source": [
    "# initialise lists to be added to collection\n",
    "doc_list     = []\n",
    "doc_metadata = []\n",
    "embeddings   = []"
   ]
  },
  {
   "cell_type": "code",
   "execution_count": 7,
   "metadata": {},
   "outputs": [],
   "source": [
    "# read in each dataset file\n",
    "for item in metadatas:\n",
    "    path = item[\"filepath\"]\n",
    "\n",
    "    doc  = Document(item[\"filepath\"])\n",
    "\n",
    "    doc_list.append(doc.fulltext)\n",
    "    doc_metadata.append(item)\n",
    "    embeddings.append(doc.embedding[0])"
   ]
  },
  {
   "cell_type": "code",
   "execution_count": 8,
   "metadata": {},
   "outputs": [
    {
     "name": "stdout",
     "output_type": "stream",
     "text": [
      "True\n"
     ]
    }
   ],
   "source": [
    "print(len(doc_list) == len(doc_metadata))"
   ]
  },
  {
   "cell_type": "code",
   "execution_count": 9,
   "metadata": {},
   "outputs": [],
   "source": [
    "# add to collection\n",
    "v_db.addToCollection(docs   = doc_list, \n",
    "                     embeds = embeddings,\n",
    "                     meta   = doc_metadata, \n",
    "                     ids    = [f\"id{i}\" for i in range(len(doc_list))])"
   ]
  },
  {
   "cell_type": "code",
   "execution_count": 10,
   "metadata": {},
   "outputs": [
    {
     "name": "stdout",
     "output_type": "stream",
     "text": [
      "Results: \n",
      "{'book': 'john', 'chapter': '3', 'filepath': 'documents/john_3.txt'}\n"
     ]
    }
   ],
   "source": [
    "# Query the database and retrieve the most relevant documents\n",
    "query       = \"Kingdom\"\n",
    "num_results = 1\n",
    "\n",
    "results = v_db.queryDatabase(query, num_results)\n",
    "\n",
    "print(\"Results: \")\n",
    "for i in range(num_results):\n",
    "    # print(results[\"documents\"][0][i])\n",
    "    print(results[\"metadatas\"][0][i])"
   ]
  }
 ],
 "metadata": {
  "kernelspec": {
   "display_name": ".venv",
   "language": "python",
   "name": "python3"
  },
  "language_info": {
   "codemirror_mode": {
    "name": "ipython",
    "version": 3
   },
   "file_extension": ".py",
   "mimetype": "text/x-python",
   "name": "python",
   "nbconvert_exporter": "python",
   "pygments_lexer": "ipython3",
   "version": "3.11.4"
  }
 },
 "nbformat": 4,
 "nbformat_minor": 2
}
